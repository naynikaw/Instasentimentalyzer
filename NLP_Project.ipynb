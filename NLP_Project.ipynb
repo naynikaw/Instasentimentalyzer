{
  "nbformat": 4,
  "nbformat_minor": 0,
  "metadata": {
    "colab": {
      "name": "NLP Project.ipynb",
      "provenance": [],
      "collapsed_sections": [],
      "authorship_tag": "ABX9TyOQLiBSwYOO7T8P2/1GOTlE",
      "include_colab_link": true
    },
    "kernelspec": {
      "name": "python3",
      "display_name": "Python 3"
    }
  },
  "cells": [
    {
      "cell_type": "markdown",
      "metadata": {
        "id": "view-in-github",
        "colab_type": "text"
      },
      "source": [
        "<a href=\"https://colab.research.google.com/github/naynikaw/Instasentimentalyzer/blob/main/NLP_Project.ipynb\" target=\"_parent\"><img src=\"https://colab.research.google.com/assets/colab-badge.svg\" alt=\"Open In Colab\"/></a>"
      ]
    },
    {
      "cell_type": "code",
      "metadata": {
        "id": "JIYmxs5BP9sj"
      },
      "source": [
        "import os, platform, time, urllib.request, openpyxl, operator\n",
        "from selenium import webdriver\n",
        "from selenium.webdriver.common.keys import Keys\n",
        "from selenium.webdriver.common.action_chains import ActionChains\n",
        "from openpyxl import Workbook\n",
        "import sys, requests, re, json\n",
        "from selenium.webdriver.common.keys import Keys\n",
        "from bs4 import BeautifulSoup\n",
        "\n",
        "import pandas as pd\n",
        "import numpy as np\n",
        "\n",
        "import warnings\n",
        "warnings.filterwarnings('ignore')"
      ],
      "execution_count": null,
      "outputs": []
    },
    {
      "cell_type": "code",
      "metadata": {
        "id": "ZLrscFyqQvFb"
      },
      "source": [
        "def scrape_general_info(url):\n",
        "    # instagram URL \n",
        "    URL = url\n",
        "\n",
        "    # creating a dictionary \n",
        "    data = {} \n",
        "\n",
        "    # getting the request from url \n",
        "    r = requests.get(URL)\n",
        "\n",
        "    # converting the text \n",
        "    s = BeautifulSoup(r.text, \"html.parser\") \n",
        "\n",
        "    # finding meta info \n",
        "    meta = s.find(\"meta\", property =\"og:description\")\n",
        "\n",
        "    #searching followers, followeing and number of posts info\n",
        "    meta_2 = meta.attrs['content']\n",
        "    meta_3 = meta_2.split(\"-\")[0].split(\" \")\n",
        "\n",
        "    # assigning the values \n",
        "    data['Followers'] = meta_3[0] \n",
        "    data['Following'] = meta_3[2] \n",
        "    data['Posts'] = meta_3[4]\n",
        "    \n",
        "    return data"
      ],
      "execution_count": null,
      "outputs": []
    },
    {
      "cell_type": "code",
      "metadata": {
        "id": "B3e2M57BREUz"
      },
      "source": [
        "link = []\n",
        "names = []\n",
        "\n",
        "def get_influencer_link(username):\n",
        "    #to influencer url\n",
        "    url = f'https://www.instagram.com/{username}/'\n",
        "    driver = webdriver.Chrome()\n",
        "    driver.get(url)\n",
        "\n",
        "    time.sleep(5)\n",
        "\n",
        "    i = 0\n",
        "    while i < 8:   \n",
        "        try:\n",
        "            #get the links\n",
        "            pages = driver.find_elements_by_tag_name('a')\n",
        "            for data in pages:\n",
        "                data_2 = data.get_attribute(\"href\")\n",
        "                if '/p/' in data_2:\n",
        "                    link.append(data.get_attribute(\"href\"))\n",
        "                    names.append(username)\n",
        "            # Scroll down to bottom\n",
        "            driver.execute_script(\"window.scrollTo(0, document.body.scrollHeight);\")\n",
        "\n",
        "            # Wait to load page\n",
        "            time.sleep(1)\n",
        "            i += 1\n",
        "        except:\n",
        "            i += 1\n",
        "            continue\n",
        "    driver.quit()\n",
        "\n",
        "    return link, names"
      ],
      "execution_count": null,
      "outputs": []
    },
    {
      "cell_type": "code",
      "metadata": {
        "id": "0JOI4ExvRNAw"
      },
      "source": [
        "likes = []\n",
        "comment_counts = []\n",
        "dates = []\n",
        "captions = []\n",
        "type_posts = []\n",
        "links = []\n",
        "i = 0\n",
        "n = 0\n",
        "def get_information(link):    \n",
        "    try:\n",
        "        global i, n\n",
        "        \n",
        "        #accessing and parsing the website url\n",
        "        url = link\n",
        "        response = requests.get(url)\n",
        "        soup = BeautifulSoup(response.content)\n",
        "        \n",
        "        #find element that contain information\n",
        "        body = soup.find('body')\n",
        "        script = body.find('script')\n",
        "        raw = script.text.strip().replace('window._sharedData =', '').replace(';', '')\n",
        "        json_data=json.loads(raw)\n",
        "        posts =json_data['entry_data']['PostPage'][0]['graphql']\n",
        "        posts= json.dumps(posts)\n",
        "        posts = json.loads(posts)\n",
        "        \n",
        "        #acquiring information\n",
        "        #like = posts['shortcode_media']['edge_media_preview_like']['count']\n",
        "        comment_count = posts['shortcode_media']['edge_media_to_parent_comment']\n",
        "        #date = posts['shortcode_media']['taken_at_timestamp']\n",
        "        caption = posts['shortcode_media']['edge_media_to_caption']['edges'][0]['node']['text']\n",
        "        type_post = posts['shortcode_media']['__typename']\n",
        "        #likes.append(like)\n",
        "        comment_counts.append(comment_count)\n",
        "        #dates.append(date)\n",
        "        captions.append(caption)\n",
        "        type_posts.append(type_post)\n",
        "        links.append(link)\n",
        "        i += 1\n",
        "    except:\n",
        "        i += 1\n",
        "        n += 1\n",
        "        print(f'number of link error {n} at iteration {i}')\n",
        "        pass\n",
        "    return comment_counts, captions, type_posts, links\n",
        "    #likes, comment_counts, dates, captions, type_posts, links"
      ],
      "execution_count": null,
      "outputs": []
    },
    {
      "cell_type": "code",
      "metadata": {
        "id": "4XHPjC_TSjS2",
        "outputId": "806d962d-bb1a-499d-eedf-60544ca2d784",
        "colab": {
          "base_uri": "https://localhost:8080/",
          "height": 421
        }
      },
      "source": [
        "print(get_influencer_link('anisha2323'))"
      ],
      "execution_count": null,
      "outputs": [
        {
          "output_type": "error",
          "ename": "WebDriverException",
          "evalue": "ignored",
          "traceback": [
            "\u001b[0;31m---------------------------------------------------------------------------\u001b[0m",
            "\u001b[0;31mFileNotFoundError\u001b[0m                         Traceback (most recent call last)",
            "\u001b[0;32m/usr/local/lib/python3.6/dist-packages/selenium/webdriver/common/service.py\u001b[0m in \u001b[0;36mstart\u001b[0;34m(self)\u001b[0m\n\u001b[1;32m     75\u001b[0m                                             \u001b[0mstderr\u001b[0m\u001b[0;34m=\u001b[0m\u001b[0mself\u001b[0m\u001b[0;34m.\u001b[0m\u001b[0mlog_file\u001b[0m\u001b[0;34m,\u001b[0m\u001b[0;34m\u001b[0m\u001b[0;34m\u001b[0m\u001b[0m\n\u001b[0;32m---> 76\u001b[0;31m                                             stdin=PIPE)\n\u001b[0m\u001b[1;32m     77\u001b[0m         \u001b[0;32mexcept\u001b[0m \u001b[0mTypeError\u001b[0m\u001b[0;34m:\u001b[0m\u001b[0;34m\u001b[0m\u001b[0;34m\u001b[0m\u001b[0m\n",
            "\u001b[0;32m/usr/lib/python3.6/subprocess.py\u001b[0m in \u001b[0;36m__init__\u001b[0;34m(self, args, bufsize, executable, stdin, stdout, stderr, preexec_fn, close_fds, shell, cwd, env, universal_newlines, startupinfo, creationflags, restore_signals, start_new_session, pass_fds, encoding, errors)\u001b[0m\n\u001b[1;32m    728\u001b[0m                                 \u001b[0merrread\u001b[0m\u001b[0;34m,\u001b[0m \u001b[0merrwrite\u001b[0m\u001b[0;34m,\u001b[0m\u001b[0;34m\u001b[0m\u001b[0;34m\u001b[0m\u001b[0m\n\u001b[0;32m--> 729\u001b[0;31m                                 restore_signals, start_new_session)\n\u001b[0m\u001b[1;32m    730\u001b[0m         \u001b[0;32mexcept\u001b[0m\u001b[0;34m:\u001b[0m\u001b[0;34m\u001b[0m\u001b[0;34m\u001b[0m\u001b[0m\n",
            "\u001b[0;32m/usr/lib/python3.6/subprocess.py\u001b[0m in \u001b[0;36m_execute_child\u001b[0;34m(self, args, executable, preexec_fn, close_fds, pass_fds, cwd, env, startupinfo, creationflags, shell, p2cread, p2cwrite, c2pread, c2pwrite, errread, errwrite, restore_signals, start_new_session)\u001b[0m\n\u001b[1;32m   1363\u001b[0m                             \u001b[0merr_msg\u001b[0m \u001b[0;34m+=\u001b[0m \u001b[0;34m': '\u001b[0m \u001b[0;34m+\u001b[0m \u001b[0mrepr\u001b[0m\u001b[0;34m(\u001b[0m\u001b[0merr_filename\u001b[0m\u001b[0;34m)\u001b[0m\u001b[0;34m\u001b[0m\u001b[0;34m\u001b[0m\u001b[0m\n\u001b[0;32m-> 1364\u001b[0;31m                     \u001b[0;32mraise\u001b[0m \u001b[0mchild_exception_type\u001b[0m\u001b[0;34m(\u001b[0m\u001b[0merrno_num\u001b[0m\u001b[0;34m,\u001b[0m \u001b[0merr_msg\u001b[0m\u001b[0;34m,\u001b[0m \u001b[0merr_filename\u001b[0m\u001b[0;34m)\u001b[0m\u001b[0;34m\u001b[0m\u001b[0;34m\u001b[0m\u001b[0m\n\u001b[0m\u001b[1;32m   1365\u001b[0m                 \u001b[0;32mraise\u001b[0m \u001b[0mchild_exception_type\u001b[0m\u001b[0;34m(\u001b[0m\u001b[0merr_msg\u001b[0m\u001b[0;34m)\u001b[0m\u001b[0;34m\u001b[0m\u001b[0;34m\u001b[0m\u001b[0m\n",
            "\u001b[0;31mFileNotFoundError\u001b[0m: [Errno 2] No such file or directory: 'chromedriver': 'chromedriver'",
            "\nDuring handling of the above exception, another exception occurred:\n",
            "\u001b[0;31mWebDriverException\u001b[0m                        Traceback (most recent call last)",
            "\u001b[0;32m<ipython-input-20-e137eac69e00>\u001b[0m in \u001b[0;36m<module>\u001b[0;34m()\u001b[0m\n\u001b[0;32m----> 1\u001b[0;31m \u001b[0mprint\u001b[0m\u001b[0;34m(\u001b[0m\u001b[0mget_influencer_link\u001b[0m\u001b[0;34m(\u001b[0m\u001b[0;34m'anisha2323'\u001b[0m\u001b[0;34m)\u001b[0m\u001b[0;34m)\u001b[0m\u001b[0;34m\u001b[0m\u001b[0;34m\u001b[0m\u001b[0m\n\u001b[0m",
            "\u001b[0;32m<ipython-input-7-6bc8bef365f8>\u001b[0m in \u001b[0;36mget_influencer_link\u001b[0;34m(username)\u001b[0m\n\u001b[1;32m      5\u001b[0m     \u001b[0;31m#to influencer url\u001b[0m\u001b[0;34m\u001b[0m\u001b[0;34m\u001b[0m\u001b[0;34m\u001b[0m\u001b[0m\n\u001b[1;32m      6\u001b[0m     \u001b[0murl\u001b[0m \u001b[0;34m=\u001b[0m \u001b[0;34mf'https://www.instagram.com/{username}/'\u001b[0m\u001b[0;34m\u001b[0m\u001b[0;34m\u001b[0m\u001b[0m\n\u001b[0;32m----> 7\u001b[0;31m     \u001b[0mdriver\u001b[0m \u001b[0;34m=\u001b[0m \u001b[0mwebdriver\u001b[0m\u001b[0;34m.\u001b[0m\u001b[0mChrome\u001b[0m\u001b[0;34m(\u001b[0m\u001b[0;34m)\u001b[0m\u001b[0;34m\u001b[0m\u001b[0;34m\u001b[0m\u001b[0m\n\u001b[0m\u001b[1;32m      8\u001b[0m     \u001b[0mdriver\u001b[0m\u001b[0;34m.\u001b[0m\u001b[0mget\u001b[0m\u001b[0;34m(\u001b[0m\u001b[0murl\u001b[0m\u001b[0;34m)\u001b[0m\u001b[0;34m\u001b[0m\u001b[0;34m\u001b[0m\u001b[0m\n\u001b[1;32m      9\u001b[0m \u001b[0;34m\u001b[0m\u001b[0m\n",
            "\u001b[0;32m/usr/local/lib/python3.6/dist-packages/selenium/webdriver/chrome/webdriver.py\u001b[0m in \u001b[0;36m__init__\u001b[0;34m(self, executable_path, port, options, service_args, desired_capabilities, service_log_path, chrome_options, keep_alive)\u001b[0m\n\u001b[1;32m     71\u001b[0m             \u001b[0mservice_args\u001b[0m\u001b[0;34m=\u001b[0m\u001b[0mservice_args\u001b[0m\u001b[0;34m,\u001b[0m\u001b[0;34m\u001b[0m\u001b[0;34m\u001b[0m\u001b[0m\n\u001b[1;32m     72\u001b[0m             log_path=service_log_path)\n\u001b[0;32m---> 73\u001b[0;31m         \u001b[0mself\u001b[0m\u001b[0;34m.\u001b[0m\u001b[0mservice\u001b[0m\u001b[0;34m.\u001b[0m\u001b[0mstart\u001b[0m\u001b[0;34m(\u001b[0m\u001b[0;34m)\u001b[0m\u001b[0;34m\u001b[0m\u001b[0;34m\u001b[0m\u001b[0m\n\u001b[0m\u001b[1;32m     74\u001b[0m \u001b[0;34m\u001b[0m\u001b[0m\n\u001b[1;32m     75\u001b[0m         \u001b[0;32mtry\u001b[0m\u001b[0;34m:\u001b[0m\u001b[0;34m\u001b[0m\u001b[0;34m\u001b[0m\u001b[0m\n",
            "\u001b[0;32m/usr/local/lib/python3.6/dist-packages/selenium/webdriver/common/service.py\u001b[0m in \u001b[0;36mstart\u001b[0;34m(self)\u001b[0m\n\u001b[1;32m     81\u001b[0m                 raise WebDriverException(\n\u001b[1;32m     82\u001b[0m                     \"'%s' executable needs to be in PATH. %s\" % (\n\u001b[0;32m---> 83\u001b[0;31m                         os.path.basename(self.path), self.start_error_message)\n\u001b[0m\u001b[1;32m     84\u001b[0m                 )\n\u001b[1;32m     85\u001b[0m             \u001b[0;32melif\u001b[0m \u001b[0merr\u001b[0m\u001b[0;34m.\u001b[0m\u001b[0merrno\u001b[0m \u001b[0;34m==\u001b[0m \u001b[0merrno\u001b[0m\u001b[0;34m.\u001b[0m\u001b[0mEACCES\u001b[0m\u001b[0;34m:\u001b[0m\u001b[0;34m\u001b[0m\u001b[0;34m\u001b[0m\u001b[0m\n",
            "\u001b[0;31mWebDriverException\u001b[0m: Message: 'chromedriver' executable needs to be in PATH. Please see https://sites.google.com/a/chromium.org/chromedriver/home\n"
          ]
        }
      ]
    },
    {
      "cell_type": "code",
      "metadata": {
        "id": "j74wxCMYT45A",
        "outputId": "10ba396b-fa83-4f32-b738-3292a257f45b",
        "colab": {
          "base_uri": "https://localhost:8080/"
        }
      },
      "source": [
        "!pip install igramscraper"
      ],
      "execution_count": null,
      "outputs": [
        {
          "output_type": "stream",
          "text": [
            "Collecting igramscraper\n",
            "  Downloading https://files.pythonhosted.org/packages/1c/ef/f86b3ed24902305a0b4d318ecc78b86c168fc4979814fd31ce8dfa6278cc/igramscraper-0.3.5.tar.gz\n",
            "Requirement already satisfied: requests>=2.21.0 in /usr/local/lib/python3.6/dist-packages (from igramscraper) (2.23.0)\n",
            "Collecting python-slugify==3.0.2\n",
            "  Downloading https://files.pythonhosted.org/packages/c1/19/c3cf1dc65e89aa999f85a4a3a4924ccac765a6964b405d487b7b7c8bb39f/python-slugify-3.0.2.tar.gz\n",
            "Requirement already satisfied: idna<3,>=2.5 in /usr/local/lib/python3.6/dist-packages (from requests>=2.21.0->igramscraper) (2.10)\n",
            "Requirement already satisfied: certifi>=2017.4.17 in /usr/local/lib/python3.6/dist-packages (from requests>=2.21.0->igramscraper) (2020.6.20)\n",
            "Requirement already satisfied: urllib3!=1.25.0,!=1.25.1,<1.26,>=1.21.1 in /usr/local/lib/python3.6/dist-packages (from requests>=2.21.0->igramscraper) (1.24.3)\n",
            "Requirement already satisfied: chardet<4,>=3.0.2 in /usr/local/lib/python3.6/dist-packages (from requests>=2.21.0->igramscraper) (3.0.4)\n",
            "Collecting text-unidecode==1.2\n",
            "\u001b[?25l  Downloading https://files.pythonhosted.org/packages/79/42/d717cc2b4520fb09e45b344b1b0b4e81aa672001dd128c180fabc655c341/text_unidecode-1.2-py2.py3-none-any.whl (77kB)\n",
            "\u001b[K     |████████████████████████████████| 81kB 2.9MB/s \n",
            "\u001b[?25hBuilding wheels for collected packages: igramscraper, python-slugify\n",
            "  Building wheel for igramscraper (setup.py) ... \u001b[?25l\u001b[?25hdone\n",
            "  Created wheel for igramscraper: filename=igramscraper-0.3.5-cp36-none-any.whl size=36738 sha256=f6011d84ee79eb63676d77941ea7d180965ae001d938680c8ec8ab55ac70de41\n",
            "  Stored in directory: /root/.cache/pip/wheels/25/1d/ec/610e51c7273336de5778876c6e84c9fed146da6d3e273191d9\n",
            "  Building wheel for python-slugify (setup.py) ... \u001b[?25l\u001b[?25hdone\n",
            "  Created wheel for python-slugify: filename=python_slugify-3.0.2-py2.py3-none-any.whl size=4725 sha256=54b8c7dd717374ed17635c2df1dceb6b5a34a771bbbb9e9225828239cdf11bce\n",
            "  Stored in directory: /root/.cache/pip/wheels/16/7f/c3/6b0582283ad589d68a306da924a78c74546e010d8106b9b3a9\n",
            "Successfully built igramscraper python-slugify\n",
            "Installing collected packages: text-unidecode, python-slugify, igramscraper\n",
            "  Found existing installation: text-unidecode 1.3\n",
            "    Uninstalling text-unidecode-1.3:\n",
            "      Successfully uninstalled text-unidecode-1.3\n",
            "  Found existing installation: python-slugify 4.0.1\n",
            "    Uninstalling python-slugify-4.0.1:\n",
            "      Successfully uninstalled python-slugify-4.0.1\n",
            "Successfully installed igramscraper-0.3.5 python-slugify-3.0.2 text-unidecode-1.2\n"
          ],
          "name": "stdout"
        }
      ]
    },
    {
      "cell_type": "code",
      "metadata": {
        "id": "u75HpM0IrjkB"
      },
      "source": [
        "from igramscraper.instagram import Instagram\n",
        "import time\n",
        "import pandas as pd"
      ],
      "execution_count": null,
      "outputs": []
    },
    {
      "cell_type": "code",
      "metadata": {
        "id": "PNgrjq24sRl3",
        "outputId": "82a711dc-d807-4ace-982d-dfee9014ce11",
        "colab": {
          "base_uri": "https://localhost:8080/"
        }
      },
      "source": [
        "instagram = Instagram()\n",
        "instagram.with_credentials('naynika.w', 'cholabhatura')\n",
        "instagram.login(two_step_verificator=True)"
      ],
      "execution_count": null,
      "outputs": [
        {
          "output_type": "execute_result",
          "data": {
            "text/plain": [
              "{'cookie': 'csrftoken=fA7NlePUcyEdnKJRjwldK689bEGeWD2e; ds_user_id=44112392460; rur=ATN; sessionid=44112392460%3Al9kVfGpPf1IdeN%3A27; mid=X6PjnAAEAAF_eGyoxyf3ioLsVORg; ',\n",
              " 'referer': 'https://www.instagram.com/',\n",
              " 'user-agent': 'Instagram 126.0.0.25.121 Android (23/6.0.1; 320dpi; 720x1280; samsung; SM-A310F; a3xelte; samsungexynos7580; en_GB; 110937453)',\n",
              " 'x-csrftoken': 'fA7NlePUcyEdnKJRjwldK689bEGeWD2e'}"
            ]
          },
          "metadata": {
            "tags": []
          },
          "execution_count": 4
        }
      ]
    },
    {
      "cell_type": "code",
      "metadata": {
        "id": "6d-5jB4Osv48"
      },
      "source": [
        "insta_list = ['muskansaiyyad','anisha2323','styleupwith_joyee','kouchpotateaux','himani_jadeja','zsk_makeup','melaninrani','kritibali','soul_blushh','i_shambhavi_i','sincerelyxbhavi','alluringfashionistas','anisha2323','thatlibranstyleblog','marjoriemofficial','themagicalmona','fatema_m92','whifffoflife','amanpreetkeshri','ruch_0202','yashasvi.____.srivastava25','myglammworldd','___roshniraj___','kajaal_yadav','sathyakamala','thekaurblog','tanyaadvani','shruti_rana_makeovers','snehasakya','flappergurrl','camkary_karuna','saloniii_','prakratikush','kritika.kkakkar','fahablog','arfashahid','makeupbyyhuda','fizzahiqbalmua','_.fatimahussain._','brokegirlseries','saniaarshadblog','hoorina1dani','meenus_studio','maryammabbas_','girlwithbigdreams____','sanamunyr','minsa_hassan','glowonfleek_','komalmangiblog','sheikha_zunaira','reeshaholic','theblogcouture','bhowmickbarnanaofficial','takkymorningstar','mariaa.sarfraz','iamkhadijazubair._','thataveragehijabi','theayeshaz._','karwaanzindaagika','blogs_by_qurat','iamayeshasattar','kafilwarrah','ramsharafiq21','hijab_khaan','kaleidoscope_of_my_life','mahasmantraa','blogitwithamina','iqra_ky_blogs','glow.beeteakay_14','shriya_gupta21','shauryaasnani','eena_anand','anishagodhwani','bhaskarmehta','versatile_pride','gameofstyles_sneha','mensgrace','jagrutipriyadarshanidas','helldrop_','officialprincepardhan_','zahrasarfraz','mariyatariqblog','lazy_girls_diary','itayyabkamran','iamkhadijazubair._','kikixbae','mahinxblog','shamaal_umairr','sammansblog','fashionworldpk_','heresheblogs','d_mariable','dr.heebah','blogbyshiz','sanaaa_mirrr','styled_by_harmain','venturesofkarachiite','blogbysheeraz','vintagegirlxx','vlog.naina','flashesofdelight_by_adina','abbiekaxmi','ham_glam','agirlfromkashmir','makeupby_midhat','blogthisoutwithyumna','hello_tothe_necessities_blog','javeriablogs','zainabshahwarkhan']\n",
        "n = len(insta_list)\n",
        "titles = ['ID','Username','Full Name','Biography','Number of posts','Number of followers','Number of follows']\n",
        "ID = []\n",
        "username = []\n",
        "fullname = []\n",
        "bio = []\n",
        "num_posts = []\n",
        "num_followers = []\n",
        "num_follows = []\n",
        "not_found =[]"
      ],
      "execution_count": null,
      "outputs": []
    },
    {
      "cell_type": "code",
      "metadata": {
        "id": "JpzDE3C2tEIs",
        "outputId": "9a764cff-2e56-45be-e90a-ed78380b7997",
        "colab": {
          "base_uri": "https://localhost:8080/"
        }
      },
      "source": [
        "for i in range(n):\n",
        "  try:\n",
        "    account = instagram.get_account(insta_list[i])\n",
        "    ID.append(account.identifier)\n",
        "    username.append(account.username)\n",
        "    fullname.append(account.full_name)\n",
        "    bio.append(account.biography)\n",
        "    num_posts.append(account.media_count)    \n",
        "    num_followers.append(account.followed_by_count)\n",
        "    num_follows.append(account.follows_count)\n",
        "    time.sleep(10)\n",
        "    if i>0 and i%10==0:\n",
        "      time.sleep(200)\n",
        "  except:\n",
        "    print(insta_list[i]+\" not found\")\n",
        "    not_found.append(insta_list[i])\n",
        "for name in not_found:\n",
        "  insta_list.remove(name)"
      ],
      "execution_count": null,
      "outputs": [
        {
          "output_type": "stream",
          "text": [
            "styleupwith_joyee not found\n",
            "soul_blushh not found\n",
            "yashasvi.____.srivastava25 not found\n",
            "___roshniraj___ not found\n",
            "thekaurblog not found\n",
            "camkary_karuna not found\n",
            "kritika.kkakkar not found\n",
            "brokegirlseries not found\n",
            "hoorina1dani not found\n",
            "meenus_studio not found\n",
            "maryammabbas_ not found\n",
            "bhowmickbarnanaofficial not found\n",
            "takkymorningstar not found\n",
            "blogs_by_qurat not found\n",
            "glow.beeteakay_14 not found\n",
            "shriya_gupta21 not found\n",
            "kikixbae not found\n",
            "shamaal_umairr not found\n",
            "fashionworldpk_ not found\n",
            "dr.heebah not found\n",
            "venturesofkarachiite not found\n",
            "flashesofdelight_by_adina not found\n",
            "makeupby_midhat not found\n"
          ],
          "name": "stdout"
        }
      ]
    },
    {
      "cell_type": "code",
      "metadata": {
        "id": "q96DxrPAtRxR",
        "outputId": "5e42e84f-07e2-40e8-93df-bf47d060e47a",
        "colab": {
          "base_uri": "https://localhost:8080/"
        }
      },
      "source": [
        "accounts_values = [ID, username, fullname, bio, num_posts, num_followers, num_follows]\n",
        "result = list(zip(titles,accounts_values))\n",
        "result1 = dict(result)\n",
        "account_info = pd.DataFrame(result1)\n",
        "print(account_info)"
      ],
      "execution_count": null,
      "outputs": [
        {
          "output_type": "stream",
          "text": [
            "            ID  ... Number of follows\n",
            "0   3737202971  ...              1206\n",
            "1    495170117  ...              2371\n",
            "2   5706759048  ...               958\n",
            "3   2525633810  ...              2624\n",
            "4   3188352391  ...                51\n",
            "..         ...  ...               ...\n",
            "81  7706431368  ...               996\n",
            "82  6817046798  ...               291\n",
            "83  5779538433  ...              3274\n",
            "84  5632730084  ...              1804\n",
            "85  5889750379  ...              1278\n",
            "\n",
            "[86 rows x 7 columns]\n"
          ],
          "name": "stdout"
        }
      ]
    },
    {
      "cell_type": "code",
      "metadata": {
        "id": "HT7-TZzxI8kt",
        "outputId": "56624772-6102-49f4-fcb5-b4e4b60ad3c9",
        "colab": {
          "base_uri": "https://localhost:8080/",
          "height": 162
        }
      },
      "source": [
        "print(len(insta_list))"
      ],
      "execution_count": null,
      "outputs": [
        {
          "output_type": "error",
          "ename": "NameError",
          "evalue": "ignored",
          "traceback": [
            "\u001b[0;31m---------------------------------------------------------------------------\u001b[0m",
            "\u001b[0;31mNameError\u001b[0m                                 Traceback (most recent call last)",
            "\u001b[0;32m<ipython-input-1-62f15978220c>\u001b[0m in \u001b[0;36m<module>\u001b[0;34m()\u001b[0m\n\u001b[0;32m----> 1\u001b[0;31m \u001b[0mprint\u001b[0m\u001b[0;34m(\u001b[0m\u001b[0mlen\u001b[0m\u001b[0;34m(\u001b[0m\u001b[0minsta_list\u001b[0m\u001b[0;34m)\u001b[0m\u001b[0;34m)\u001b[0m\u001b[0;34m\u001b[0m\u001b[0;34m\u001b[0m\u001b[0m\n\u001b[0m",
            "\u001b[0;31mNameError\u001b[0m: name 'insta_list' is not defined"
          ]
        }
      ]
    },
    {
      "cell_type": "code",
      "metadata": {
        "id": "rMJmbj85Jfys"
      },
      "source": [
        "def login():\n",
        "  instagram.login(two_step_verificator=True)"
      ],
      "execution_count": null,
      "outputs": []
    },
    {
      "cell_type": "code",
      "metadata": {
        "id": "FQomoLcDKUbl"
      },
      "source": [
        "login()"
      ],
      "execution_count": null,
      "outputs": []
    },
    {
      "cell_type": "code",
      "metadata": {
        "id": "cDp6nzsL5i4s",
        "outputId": "ad500ee0-1a25-4f51-8b92-c8823892d05f",
        "colab": {
          "base_uri": "https://localhost:8080/",
          "height": 458
        }
      },
      "source": [
        "media_ids = {}\n",
        "for i in range(len(insta_list)):\n",
        "  login()\n",
        "  medias = instagram.get_medias(insta_list[i], 10)\n",
        "  ids = []\n",
        "  for media in medias:\n",
        "    #print(media)\n",
        "     ids.append(media.identifier)\n",
        "  media_ids[insta_list[i]]= ids\n",
        "  print(media_ids)\n",
        "  if i>0 and i%2==0:\n",
        "    time.sleep(60)\n"
      ],
      "execution_count": null,
      "outputs": [
        {
          "output_type": "stream",
          "text": [
            "{'muskansaiyyad': ['2431876645291161553', '2427955737124075346', '2421885870482613187', '2410132006699877289', '2397953232608727981', '2391989568336821656', '2387182744957739678', '2378456268691214098', '2373147564962053421', '2367709483941445293']}\n",
            "{'muskansaiyyad': ['2431876645291161553', '2427955737124075346', '2421885870482613187', '2410132006699877289', '2397953232608727981', '2391989568336821656', '2387182744957739678', '2378456268691214098', '2373147564962053421', '2367709483941445293'], 'anisha2323': ['2433707039984543959', '2432975628059191500', '2432045333268961941', '2431485458059279906', '2428527313561273181', '2428310551729161963', '2427848096720826582', '2427091968189605151', '2426300761284881008', '2425600710824867273']}\n",
            "{'muskansaiyyad': ['2431876645291161553', '2427955737124075346', '2421885870482613187', '2410132006699877289', '2397953232608727981', '2391989568336821656', '2387182744957739678', '2378456268691214098', '2373147564962053421', '2367709483941445293'], 'anisha2323': ['2433707039984543959', '2432975628059191500', '2432045333268961941', '2431485458059279906', '2428527313561273181', '2428310551729161963', '2427848096720826582', '2427091968189605151', '2426300761284881008', '2425600710824867273'], 'kouchpotateaux': ['2414029973358049030', '2406775417406362287', '2397999556607864429', '2392756082795072333', '2391296218419854405', '2389841932208854985', '2383446609765064060', '2382599077744835149', '2368314925910502511', '2366884814015381564']}\n"
          ],
          "name": "stdout"
        },
        {
          "output_type": "error",
          "ename": "InstagramAuthException",
          "evalue": "ignored",
          "traceback": [
            "\u001b[0;31m---------------------------------------------------------------------------\u001b[0m",
            "\u001b[0;31mInstagramAuthException\u001b[0m                    Traceback (most recent call last)",
            "\u001b[0;32m<ipython-input-36-03972817c649>\u001b[0m in \u001b[0;36m<module>\u001b[0;34m()\u001b[0m\n\u001b[1;32m      1\u001b[0m \u001b[0mmedia_ids\u001b[0m \u001b[0;34m=\u001b[0m \u001b[0;34m{\u001b[0m\u001b[0;34m}\u001b[0m\u001b[0;34m\u001b[0m\u001b[0;34m\u001b[0m\u001b[0m\n\u001b[1;32m      2\u001b[0m \u001b[0;32mfor\u001b[0m \u001b[0mi\u001b[0m \u001b[0;32min\u001b[0m \u001b[0mrange\u001b[0m\u001b[0;34m(\u001b[0m\u001b[0mlen\u001b[0m\u001b[0;34m(\u001b[0m\u001b[0minsta_list\u001b[0m\u001b[0;34m)\u001b[0m\u001b[0;34m)\u001b[0m\u001b[0;34m:\u001b[0m\u001b[0;34m\u001b[0m\u001b[0;34m\u001b[0m\u001b[0m\n\u001b[0;32m----> 3\u001b[0;31m   \u001b[0mlogin\u001b[0m\u001b[0;34m(\u001b[0m\u001b[0;34m)\u001b[0m\u001b[0;34m\u001b[0m\u001b[0;34m\u001b[0m\u001b[0m\n\u001b[0m\u001b[1;32m      4\u001b[0m   \u001b[0mmedias\u001b[0m \u001b[0;34m=\u001b[0m \u001b[0minstagram\u001b[0m\u001b[0;34m.\u001b[0m\u001b[0mget_medias\u001b[0m\u001b[0;34m(\u001b[0m\u001b[0minsta_list\u001b[0m\u001b[0;34m[\u001b[0m\u001b[0mi\u001b[0m\u001b[0;34m]\u001b[0m\u001b[0;34m,\u001b[0m \u001b[0;36m10\u001b[0m\u001b[0;34m)\u001b[0m\u001b[0;34m\u001b[0m\u001b[0;34m\u001b[0m\u001b[0m\n\u001b[1;32m      5\u001b[0m   \u001b[0mids\u001b[0m \u001b[0;34m=\u001b[0m \u001b[0;34m[\u001b[0m\u001b[0;34m]\u001b[0m\u001b[0;34m\u001b[0m\u001b[0;34m\u001b[0m\u001b[0m\n",
            "\u001b[0;32m<ipython-input-30-559951ba9d66>\u001b[0m in \u001b[0;36mlogin\u001b[0;34m()\u001b[0m\n\u001b[1;32m      1\u001b[0m \u001b[0;32mdef\u001b[0m \u001b[0mlogin\u001b[0m\u001b[0;34m(\u001b[0m\u001b[0;34m)\u001b[0m\u001b[0;34m:\u001b[0m\u001b[0;34m\u001b[0m\u001b[0;34m\u001b[0m\u001b[0m\n\u001b[0;32m----> 2\u001b[0;31m   \u001b[0minstagram\u001b[0m\u001b[0;34m.\u001b[0m\u001b[0mlogin\u001b[0m\u001b[0;34m(\u001b[0m\u001b[0mtwo_step_verificator\u001b[0m\u001b[0;34m=\u001b[0m\u001b[0;32mTrue\u001b[0m\u001b[0;34m)\u001b[0m\u001b[0;34m\u001b[0m\u001b[0;34m\u001b[0m\u001b[0m\n\u001b[0m",
            "\u001b[0;32m/usr/local/lib/python3.6/dist-packages/igramscraper/instagram.py\u001b[0m in \u001b[0;36mlogin\u001b[0;34m(self, force, two_step_verificator)\u001b[0m\n\u001b[1;32m   1366\u001b[0m                     raise InstagramAuthException(\n\u001b[1;32m   1367\u001b[0m                         \u001b[0;34mf'Response code is {response.status_code}. Body: {response.text} Something went wrong. Please report issue.'\u001b[0m\u001b[0;34m,\u001b[0m\u001b[0;34m\u001b[0m\u001b[0;34m\u001b[0m\u001b[0m\n\u001b[0;32m-> 1368\u001b[0;31m                         response.status_code)\n\u001b[0m\u001b[1;32m   1369\u001b[0m                 \u001b[0;32melse\u001b[0m\u001b[0;34m:\u001b[0m\u001b[0;34m\u001b[0m\u001b[0;34m\u001b[0m\u001b[0m\n\u001b[1;32m   1370\u001b[0m                     raise InstagramAuthException(\n",
            "\u001b[0;31mInstagramAuthException\u001b[0m: Response code is 403. Body: {\"message\": \"Please wait a few minutes before you try again.\", \"status\": \"fail\"} Something went wrong. Please report issue., Code:403"
          ]
        }
      ]
    },
    {
      "cell_type": "code",
      "metadata": {
        "id": "CUZUbFH7ohkO",
        "outputId": "e97b81cd-8f4a-4677-a271-98dd222a9027",
        "colab": {
          "base_uri": "https://localhost:8080/",
          "height": 542
        }
      },
      "source": [
        "media_ids2 = {}\n",
        "for i in range(len(insta_list)):\n",
        "  login()\n",
        "  medias = instagram.get_medias(insta_list[i], 10)\n",
        "  ids = []\n",
        "  for media in medias:\n",
        "    #print(media)\n",
        "     ids.append(media.identifier)\n",
        "  media_ids2[insta_list[i]]= ids\n",
        "  print(media_ids2)\n",
        "  if i>0 and i%2==0:\n",
        "    time.sleep(60)\n",
        "  if i%8==0:\n",
        "    time.sleep(180)\n"
      ],
      "execution_count": null,
      "outputs": [
        {
          "output_type": "stream",
          "text": [
            "{'muskansaiyyad': ['2434682056222217027', '2431876645291161553', '2427955737124075346', '2421885870482613187', '2410132006699877289', '2397953232608727981', '2391989568336821656', '2387182744957739678', '2378456268691214098', '2373147564962053421']}\n",
            "{'muskansaiyyad': ['2434682056222217027', '2431876645291161553', '2427955737124075346', '2421885870482613187', '2410132006699877289', '2397953232608727981', '2391989568336821656', '2387182744957739678', '2378456268691214098', '2373147564962053421'], 'anisha2323': ['2433707039984543959', '2432975628059191500', '2432045333268961941', '2431485458059279906', '2428527313561273181', '2428310551729161963', '2427848096720826582', '2427091968189605151', '2426300761284881008', '2425600710824867273']}\n",
            "{'muskansaiyyad': ['2434682056222217027', '2431876645291161553', '2427955737124075346', '2421885870482613187', '2410132006699877289', '2397953232608727981', '2391989568336821656', '2387182744957739678', '2378456268691214098', '2373147564962053421'], 'anisha2323': ['2433707039984543959', '2432975628059191500', '2432045333268961941', '2431485458059279906', '2428527313561273181', '2428310551729161963', '2427848096720826582', '2427091968189605151', '2426300761284881008', '2425600710824867273'], 'kouchpotateaux': ['2414029973358049030', '2406775417406362287', '2397999556607864429', '2392756082795072333', '2391296218419854405', '2389841932208854985', '2383446609765064060', '2382599077744835149', '2368314925910502511', '2366884814015381564']}\n",
            "{'muskansaiyyad': ['2434682056222217027', '2431876645291161553', '2427955737124075346', '2421885870482613187', '2410132006699877289', '2397953232608727981', '2391989568336821656', '2387182744957739678', '2378456268691214098', '2373147564962053421'], 'anisha2323': ['2433707039984543959', '2432975628059191500', '2432045333268961941', '2431485458059279906', '2428527313561273181', '2428310551729161963', '2427848096720826582', '2427091968189605151', '2426300761284881008', '2425600710824867273'], 'kouchpotateaux': ['2414029973358049030', '2406775417406362287', '2397999556607864429', '2392756082795072333', '2391296218419854405', '2389841932208854985', '2383446609765064060', '2382599077744835149', '2368314925910502511', '2366884814015381564'], 'himani_jadeja': ['2435090879258967158', '2434296277417535396', '2433597361793444217', '2432972103692393704', '2432142940735732314', '2431475021219383137', '2430749914843042210', '2429986619454275620', '2429296770648796916', '2428512097211310922']}\n",
            "{'muskansaiyyad': ['2434682056222217027', '2431876645291161553', '2427955737124075346', '2421885870482613187', '2410132006699877289', '2397953232608727981', '2391989568336821656', '2387182744957739678', '2378456268691214098', '2373147564962053421'], 'anisha2323': ['2433707039984543959', '2432975628059191500', '2432045333268961941', '2431485458059279906', '2428527313561273181', '2428310551729161963', '2427848096720826582', '2427091968189605151', '2426300761284881008', '2425600710824867273'], 'kouchpotateaux': ['2414029973358049030', '2406775417406362287', '2397999556607864429', '2392756082795072333', '2391296218419854405', '2389841932208854985', '2383446609765064060', '2382599077744835149', '2368314925910502511', '2366884814015381564'], 'himani_jadeja': ['2435090879258967158', '2434296277417535396', '2433597361793444217', '2432972103692393704', '2432142940735732314', '2431475021219383137', '2430749914843042210', '2429986619454275620', '2429296770648796916', '2428512097211310922'], 'zsk_makeup': ['2434939824353283348', '2434934281421140330', '2434933787692806750', '2434585986727369708', '2433792773703672312', '2429260904786146719', '2428974263643305826', '2424251126175331949', '2420544086206582724', '2420324851471832594']}\n",
            "{'muskansaiyyad': ['2434682056222217027', '2431876645291161553', '2427955737124075346', '2421885870482613187', '2410132006699877289', '2397953232608727981', '2391989568336821656', '2387182744957739678', '2378456268691214098', '2373147564962053421'], 'anisha2323': ['2433707039984543959', '2432975628059191500', '2432045333268961941', '2431485458059279906', '2428527313561273181', '2428310551729161963', '2427848096720826582', '2427091968189605151', '2426300761284881008', '2425600710824867273'], 'kouchpotateaux': ['2414029973358049030', '2406775417406362287', '2397999556607864429', '2392756082795072333', '2391296218419854405', '2389841932208854985', '2383446609765064060', '2382599077744835149', '2368314925910502511', '2366884814015381564'], 'himani_jadeja': ['2435090879258967158', '2434296277417535396', '2433597361793444217', '2432972103692393704', '2432142940735732314', '2431475021219383137', '2430749914843042210', '2429986619454275620', '2429296770648796916', '2428512097211310922'], 'zsk_makeup': ['2434939824353283348', '2434934281421140330', '2434933787692806750', '2434585986727369708', '2433792773703672312', '2429260904786146719', '2428974263643305826', '2424251126175331949', '2420544086206582724', '2420324851471832594'], 'melaninrani': []}\n",
            "{'muskansaiyyad': ['2434682056222217027', '2431876645291161553', '2427955737124075346', '2421885870482613187', '2410132006699877289', '2397953232608727981', '2391989568336821656', '2387182744957739678', '2378456268691214098', '2373147564962053421'], 'anisha2323': ['2433707039984543959', '2432975628059191500', '2432045333268961941', '2431485458059279906', '2428527313561273181', '2428310551729161963', '2427848096720826582', '2427091968189605151', '2426300761284881008', '2425600710824867273'], 'kouchpotateaux': ['2414029973358049030', '2406775417406362287', '2397999556607864429', '2392756082795072333', '2391296218419854405', '2389841932208854985', '2383446609765064060', '2382599077744835149', '2368314925910502511', '2366884814015381564'], 'himani_jadeja': ['2435090879258967158', '2434296277417535396', '2433597361793444217', '2432972103692393704', '2432142940735732314', '2431475021219383137', '2430749914843042210', '2429986619454275620', '2429296770648796916', '2428512097211310922'], 'zsk_makeup': ['2434939824353283348', '2434934281421140330', '2434933787692806750', '2434585986727369708', '2433792773703672312', '2429260904786146719', '2428974263643305826', '2424251126175331949', '2420544086206582724', '2420324851471832594'], 'melaninrani': [], 'kritibali': ['2435553351331797514', '2434993202049498421', '2429194700769934973', '2428455865127597334', '2426876725308120467', '2425995976673331517', '2424790312420709700', '2424129361371623759', '2423454739382868826', '2422521088813920849']}\n",
            "{'muskansaiyyad': ['2434682056222217027', '2431876645291161553', '2427955737124075346', '2421885870482613187', '2410132006699877289', '2397953232608727981', '2391989568336821656', '2387182744957739678', '2378456268691214098', '2373147564962053421'], 'anisha2323': ['2433707039984543959', '2432975628059191500', '2432045333268961941', '2431485458059279906', '2428527313561273181', '2428310551729161963', '2427848096720826582', '2427091968189605151', '2426300761284881008', '2425600710824867273'], 'kouchpotateaux': ['2414029973358049030', '2406775417406362287', '2397999556607864429', '2392756082795072333', '2391296218419854405', '2389841932208854985', '2383446609765064060', '2382599077744835149', '2368314925910502511', '2366884814015381564'], 'himani_jadeja': ['2435090879258967158', '2434296277417535396', '2433597361793444217', '2432972103692393704', '2432142940735732314', '2431475021219383137', '2430749914843042210', '2429986619454275620', '2429296770648796916', '2428512097211310922'], 'zsk_makeup': ['2434939824353283348', '2434934281421140330', '2434933787692806750', '2434585986727369708', '2433792773703672312', '2429260904786146719', '2428974263643305826', '2424251126175331949', '2420544086206582724', '2420324851471832594'], 'melaninrani': [], 'kritibali': ['2435553351331797514', '2434993202049498421', '2429194700769934973', '2428455865127597334', '2426876725308120467', '2425995976673331517', '2424790312420709700', '2424129361371623759', '2423454739382868826', '2422521088813920849'], 'i_shambhavi_i': ['2435619133369756954', '2435046876037728441', '2434313184096935903', '2433041313602878054', '2430202829661947310', '2429476674810061183', '2429363634911731069', '2428771380127332291', '2427710775744757960', '2427138996605158156']}\n"
          ],
          "name": "stdout"
        },
        {
          "output_type": "error",
          "ename": "InstagramAuthException",
          "evalue": "ignored",
          "traceback": [
            "\u001b[0;31m---------------------------------------------------------------------------\u001b[0m",
            "\u001b[0;31mInstagramAuthException\u001b[0m                    Traceback (most recent call last)",
            "\u001b[0;32m<ipython-input-16-7f156c4f3021>\u001b[0m in \u001b[0;36m<module>\u001b[0;34m()\u001b[0m\n\u001b[1;32m      1\u001b[0m \u001b[0mmedia_ids2\u001b[0m \u001b[0;34m=\u001b[0m \u001b[0;34m{\u001b[0m\u001b[0;34m}\u001b[0m\u001b[0;34m\u001b[0m\u001b[0;34m\u001b[0m\u001b[0m\n\u001b[1;32m      2\u001b[0m \u001b[0;32mfor\u001b[0m \u001b[0mi\u001b[0m \u001b[0;32min\u001b[0m \u001b[0mrange\u001b[0m\u001b[0;34m(\u001b[0m\u001b[0mlen\u001b[0m\u001b[0;34m(\u001b[0m\u001b[0minsta_list\u001b[0m\u001b[0;34m)\u001b[0m\u001b[0;34m)\u001b[0m\u001b[0;34m:\u001b[0m\u001b[0;34m\u001b[0m\u001b[0;34m\u001b[0m\u001b[0m\n\u001b[0;32m----> 3\u001b[0;31m   \u001b[0mlogin\u001b[0m\u001b[0;34m(\u001b[0m\u001b[0;34m)\u001b[0m\u001b[0;34m\u001b[0m\u001b[0;34m\u001b[0m\u001b[0m\n\u001b[0m\u001b[1;32m      4\u001b[0m   \u001b[0mmedias\u001b[0m \u001b[0;34m=\u001b[0m \u001b[0minstagram\u001b[0m\u001b[0;34m.\u001b[0m\u001b[0mget_medias\u001b[0m\u001b[0;34m(\u001b[0m\u001b[0minsta_list\u001b[0m\u001b[0;34m[\u001b[0m\u001b[0mi\u001b[0m\u001b[0;34m]\u001b[0m\u001b[0;34m,\u001b[0m \u001b[0;36m10\u001b[0m\u001b[0;34m)\u001b[0m\u001b[0;34m\u001b[0m\u001b[0;34m\u001b[0m\u001b[0m\n\u001b[1;32m      5\u001b[0m   \u001b[0mids\u001b[0m \u001b[0;34m=\u001b[0m \u001b[0;34m[\u001b[0m\u001b[0;34m]\u001b[0m\u001b[0;34m\u001b[0m\u001b[0;34m\u001b[0m\u001b[0m\n",
            "\u001b[0;32m<ipython-input-9-559951ba9d66>\u001b[0m in \u001b[0;36mlogin\u001b[0;34m()\u001b[0m\n\u001b[1;32m      1\u001b[0m \u001b[0;32mdef\u001b[0m \u001b[0mlogin\u001b[0m\u001b[0;34m(\u001b[0m\u001b[0;34m)\u001b[0m\u001b[0;34m:\u001b[0m\u001b[0;34m\u001b[0m\u001b[0;34m\u001b[0m\u001b[0m\n\u001b[0;32m----> 2\u001b[0;31m   \u001b[0minstagram\u001b[0m\u001b[0;34m.\u001b[0m\u001b[0mlogin\u001b[0m\u001b[0;34m(\u001b[0m\u001b[0mtwo_step_verificator\u001b[0m\u001b[0;34m=\u001b[0m\u001b[0;32mTrue\u001b[0m\u001b[0;34m)\u001b[0m\u001b[0;34m\u001b[0m\u001b[0;34m\u001b[0m\u001b[0m\n\u001b[0m",
            "\u001b[0;32m/usr/local/lib/python3.6/dist-packages/igramscraper/instagram.py\u001b[0m in \u001b[0;36mlogin\u001b[0;34m(self, force, two_step_verificator)\u001b[0m\n\u001b[1;32m   1366\u001b[0m                     raise InstagramAuthException(\n\u001b[1;32m   1367\u001b[0m                         \u001b[0;34mf'Response code is {response.status_code}. Body: {response.text} Something went wrong. Please report issue.'\u001b[0m\u001b[0;34m,\u001b[0m\u001b[0;34m\u001b[0m\u001b[0;34m\u001b[0m\u001b[0m\n\u001b[0;32m-> 1368\u001b[0;31m                         response.status_code)\n\u001b[0m\u001b[1;32m   1369\u001b[0m                 \u001b[0;32melse\u001b[0m\u001b[0;34m:\u001b[0m\u001b[0;34m\u001b[0m\u001b[0;34m\u001b[0m\u001b[0m\n\u001b[1;32m   1370\u001b[0m                     raise InstagramAuthException(\n",
            "\u001b[0;31mInstagramAuthException\u001b[0m: Response code is 403. Body: {\"message\": \"Please wait a few minutes before you try again.\", \"status\": \"fail\"} Something went wrong. Please report issue., Code:403"
          ]
        }
      ]
    },
    {
      "cell_type": "code",
      "metadata": {
        "id": "oqPSrt4zqAI8",
        "outputId": "d2052e00-443d-4210-be77-c81017fe5d11",
        "colab": {
          "base_uri": "https://localhost:8080/"
        }
      },
      "source": [
        "print(len(media_ids2))"
      ],
      "execution_count": null,
      "outputs": [
        {
          "output_type": "stream",
          "text": [
            "9\n"
          ],
          "name": "stdout"
        }
      ]
    },
    {
      "cell_type": "code",
      "metadata": {
        "id": "aEC-5o90WO4F",
        "outputId": "7e8aeb2e-5feb-44bc-9f7b-4fd65956ed14",
        "colab": {
          "base_uri": "https://localhost:8080/"
        }
      },
      "source": [
        "test = {}\n",
        "for id in media_ids['muskansaiyyad']:\n",
        "  comments_text = []\n",
        "  comments = instagram.get_media_comments_by_id(id, 100)\n",
        "  for comment in comments['comments']:\n",
        "    comments_text.append(comment.text)\n",
        "  #print(id, comments_text)\n",
        "  test[id] = comments_text\n",
        "print(test)"
      ],
      "execution_count": null,
      "outputs": [
        {
          "output_type": "stream",
          "text": [
            "{'2431876645291161553': ['🔥🔥', 'Exquisite', '😘😘😘😍😍❤️😍😘😘 always looking gorgeous', 'Looking extremely beautiful and pretty', 'Nice 😍😍😍', 'Amazing💎💎⭐⭐🌟🌟', 'Marvelous', '❤️❤️', 'Beautyful', 'Wooowww.. Looking Gorgeous👌😊❤️', 'Do you collobrastion with me for paid shoots'], '2427955737124075346': ['Beautiful', '❤️', 'Good one', '🔥', 'Superb di😘', '❤️❤️❤️so beautiful 😘😘😍😍', '.. £##2222££±±±±±±±±±awwwwwwwWwwaaaaaaaaaaaaaaaaaaaaaaa', 'Looking Stunning👌👌', 'Awesome'], '2421885870482613187': ['❤️', 'Wooowww.. Awesomeeee👌😊❤️🔥😍', '😍😍', '👌👌👌👌😍😍😍😍', 'Amazing💎💎⭐🌟🌟🌟', '🔥🔥🔥😍', '❤️❤️❤️❤️❤️', '🔥🔥🔥🔥', 'Awesome ❤️', 'Gorgeous ❤️❤️❤️'], '2410132006699877289': ['Awesome 🔥', '🔥🔥🔥🔥🔥🔥🔥🔥🔥🔥🔥', '😍', 'So beautiful', 'Beautiful❤️❤️❤️❤️', 'Mind blowing👌❤️😍🔥', 'Mind blowing👌❤️😍🔥', '❤️❤️❤️', 'Mind blowing👌❤️😍🔥', 'Check dm regarding short movie web series n kannada movie requirement @muskan_saiyyad', 'Beautiful💎💎⭐🌟🌟', 'Beautiful💞💞', 'Gorgeous ❤️', 'Hot click ❤️', '2🔥2 Handle❤️', 'Great bikini shoot muskhan', '👍', 'Attractive in👙💕💕💕💕'], '2397953232608727981': ['Wow Beautiful ❤️', 'Wooowww Muskan.. Looks amazing👌😊😍❤️', 'Awesome 🔥', 'Beautiful❤️❤️❤️', '❤️🔥beautiful', '😍🔥', 'So hoott 🔥🔥', '🔥❤️', '🔥', 'Looking💯💯💯 beautiful', 'Gorgeous', 'Looking extremely beautiful and sexy', '👌👌👌👌👌👌', 'Nice', '❤️😍😘beautiful 😘😘😘', 'Very hot 🔥', 'Sizzling hot 🔥', '❤️', 'Awesome'], '2391989568336821656': ['❤️❤️❤️', '🔥🔥❤', 'Amazing one🔥❤️', 'Exquisite  Ravishing ❤️❤️❤️', 'clicked during photoshoot of “SHE - SKIN AND SOUL” .. thank you Muskan .. you are awesome .. thanks @mandar_photos @sohnzd1 @lata7042 .. thanks entire team', 'Thank you sir ❤️💟', 'Thank you Muskaan', 'Pretty hot', '🔥🔥😍😍😍😍😍', 'One of your best pic seen so far!!!', 'Soooo hooottt 🔥🔥😍😍😘😘👌👌', '💋💋💋💋💋💋💋💋💋💋💋💋💋💋💋💋💋💋💋💋💋💋', 'Wow ❤️❤️❤️', 'Good one', 'Magnificent pic😘😘', 'Beautiful ❤️', 'Beautiful💞💞', 'Wow looking extremely beautiful and sexy', '❤️❤️❤️this is amazing', 'Ravishing 💋 💋 seductive 🔥 🔥 n sizzling hot 🔥 n sexy 💋', '🔥🔥🔥🔥', 'Beautiful😍', 'Superbbb.. Awesome.. Mind blowing.. Very graceful..👌😊😍😍❤️❤️🔥🔥🔥😘😘😘', 'Amazing💎⭐🌟🌟', 'Sexy nice figure muskan 😍', 'Gorgeous piece of work', 'The sexy baby ❤️', 'WoW.Stunning Look👌🔥❤️', 'Hot ❤️', 'Stunner🙌', 'Beautiful', 'Awesome😍😍😍', 'Ek nooooo style', 'Sizzling 🔥🔥', 'Love your sexy legs and feet', 'Gorgeous 😎', 'Sexo❤️\\U0001f929🤗🤗🤗', 'Pls inbox ur number for a paid photoshoot', '😍🔥💯', 'Cool'], '2387182744957739678': ['👍', 'Just wow🔥🔥🔥🔥', '🔥🔥😍', 'Important message for you please come to my inbox', 'Amazing', '🔥🔥🔥🔥🔥🔥', 'The incredible sexy beauty', 'Killer❤️😍❤️😍', '🔥🔥😘', 'Beautiful', '❤️🔥🔥🔥🔥🔥❤️', 'Stunning', 'Fantastic', 'Wooowww Muskan.. mind blowing👌😊😍❤️🔥', 'Awesome', 'Hot❤️', 'Beautiful 😘😘❤️❤️😍😍😍', 'My pleasure and welcome', '🖕'], '2378456268691214098': ['😍', '💋💋💋💋', 'Beautiful', 'Wooowww.. Awesomeeee👌😊😍🔥', 'Beautiful🔥🔥🔥', 'Yes u are Beautiful', 'Wow 😳🔥🔥🔥🔥', '😍🔥🍑🙌❤️'], '2373147564962053421': ['Hot look', '🔥🔥🔥🔥🔥', 'Wow 🔥🔥🔥🔥🔥♥️♥️♥️', '👏', '🔥🔥🔥🔥🔥🔥🔥🔥🔥🔥🔥🔥🔥', '@muskansaiyyad Omg what a figure 😍😘🔥 looking so hot 🔥🔥🔥 nice one', '🔥🔥🔥', '😘😘', '😎😎', 'Killer 👌👌🤗❤️🤗😍', 'The incredible beauty queen', 'beautiful', '🔥🔥🔥🔥🔥', 'hottest beautiful princess in the world \\U0001f970😍\\U0001f970', '🔥🔥🔥@muskansaiyyad', '🔥🔥🔥🔥', 'Awesome', '🔥🔥🔥🔥', 'Wow ❤️❤️❤️❤️❤️', 'Baby doll❤️😍😘💐', 'No words...Just staring at ur sexy midriff🔥🔥😘', 'Hot😮', 'Nice 👙', 'Hot', '❤️', 'Inbox me asap .for great assignment ..waiting', '🔥🔥😍😍😍😍', '🔥🔥🔥🔥🔥🔥', 'Gorgeous🔥', 'Class beauty🔥🔥🔥🔥❤️❤️❤️', 'Sunlight can be better used from different angle in frame 👍', 'Bomb 🔥', 'Looking too hot musu🔥🔥🔥', 'Beautiful ❤️❤️', 'Mast👌🔥❤️', 'How r u.......Stay Safe....', 'Wow😍', 'Super Hotttt🔥'], '2367709483941445293': ['😘😘😘', '🔥🔥🔥', 'Congratulations', '❤️👌🏼', 'Congratulations', 'Wow🔥🔥🔥', '💐', 'Lovely ❤️😍😍💐💐😘😘', 'Congrats....', 'Hiee can u come to inbox i havve some important information for you']}\n"
          ],
          "name": "stdout"
        }
      ]
    },
    {
      "cell_type": "code",
      "metadata": {
        "id": "EQw802g1r6o8",
        "outputId": "720b6413-c898-4a49-b090-dec992756eed",
        "colab": {
          "base_uri": "https://localhost:8080/",
          "height": 106
        }
      },
      "source": [
        "user_comments = {}\n",
        "for user, media_identifiers in media_ids.items():\n",
        "  id_comments = {}\n",
        "  for id in media_identifiers:\n",
        "    comments_text = []\n",
        "    comments = instagram.get_media_comments_by_id(id, 100)\n",
        "    for comment in comments['comments']:\n",
        "      comments_text.append(comment.text)\n",
        "    #print(id, comments_text)\n",
        "    id_comments[id] = comments_text\n",
        "  user_comments[user] = id_comments\n",
        "print(user_comments)\n",
        "\n",
        "'''\n",
        "user_comments = {}\n",
        "for key,val in media_ids.items():\n",
        "  for media_id in val:\n",
        "    id_comment = {}\n",
        "    comments_text = []\n",
        "    comments = instagram.get_media_comments_by_id(media_id, 100)\n",
        "    for comment in comments['comments']:\n",
        "        comments_text.append(comment.text)\n",
        "    id_comment[media_id] = comments_text\n",
        "  user_comments[key] = id_comment\n",
        "  print(user_comments)'''"
      ],
      "execution_count": null,
      "outputs": [
        {
          "output_type": "stream",
          "text": [
            "{'muskansaiyyad': {'2431876645291161553': ['🔥🔥', 'Exquisite', '😘😘😘😍😍❤️😍😘😘 always looking gorgeous', 'Looking extremely beautiful and pretty', 'Nice 😍😍😍', 'Amazing💎💎⭐⭐🌟🌟', 'Marvelous', '❤️❤️', 'Beautyful', 'Wooowww.. Looking Gorgeous👌😊❤️', 'Do you collobrastion with me for paid shoots'], '2427955737124075346': ['Beautiful', '❤️', 'Good one', '🔥', 'Superb di😘', '❤️❤️❤️so beautiful 😘😘😍😍', '.. £##2222££±±±±±±±±±awwwwwwwWwwaaaaaaaaaaaaaaaaaaaaaaa', 'Looking Stunning👌👌', 'Awesome'], '2421885870482613187': ['❤️', 'Wooowww.. Awesomeeee👌😊❤️🔥😍', '😍😍', '👌👌👌👌😍😍😍😍', 'Amazing💎💎⭐🌟🌟🌟', '🔥🔥🔥😍', '❤️❤️❤️❤️❤️', '🔥🔥🔥🔥', 'Awesome ❤️', 'Gorgeous ❤️❤️❤️'], '2410132006699877289': ['Awesome 🔥', '🔥🔥🔥🔥🔥🔥🔥🔥🔥🔥🔥', '😍', 'So beautiful', 'Beautiful❤️❤️❤️❤️', 'Mind blowing👌❤️😍🔥', 'Mind blowing👌❤️😍🔥', '❤️❤️❤️', 'Mind blowing👌❤️😍🔥', 'Check dm regarding short movie web series n kannada movie requirement @muskan_saiyyad', 'Beautiful💎💎⭐🌟🌟', 'Beautiful💞💞', 'Gorgeous ❤️', 'Hot click ❤️', '2🔥2 Handle❤️', 'Great bikini shoot muskhan', '👍', 'Attractive in👙💕💕💕💕'], '2397953232608727981': ['Wow Beautiful ❤️', 'Wooowww Muskan.. Looks amazing👌😊😍❤️', 'Awesome 🔥', 'Beautiful❤️❤️❤️', '❤️🔥beautiful', '😍🔥', 'So hoott 🔥🔥', '🔥❤️', '🔥', 'Looking💯💯💯 beautiful', 'Gorgeous', 'Looking extremely beautiful and sexy', '👌👌👌👌👌👌', 'Nice', '❤️😍😘beautiful 😘😘😘', 'Very hot 🔥', 'Sizzling hot 🔥', '❤️', 'Awesome'], '2391989568336821656': ['❤️❤️❤️', '🔥🔥❤', 'Amazing one🔥❤️', 'Exquisite  Ravishing ❤️❤️❤️', 'clicked during photoshoot of “SHE - SKIN AND SOUL” .. thank you Muskan .. you are awesome .. thanks @mandar_photos @sohnzd1 @lata7042 .. thanks entire team', 'Thank you sir ❤️💟', 'Thank you Muskaan', 'Pretty hot', '🔥🔥😍😍😍😍😍', 'One of your best pic seen so far!!!', 'Soooo hooottt 🔥🔥😍😍😘😘👌👌', '💋💋💋💋💋💋💋💋💋💋💋💋💋💋💋💋💋💋💋💋💋💋', 'Wow ❤️❤️❤️', 'Good one', 'Magnificent pic😘😘', 'Beautiful ❤️', 'Beautiful💞💞', 'Wow looking extremely beautiful and sexy', '❤️❤️❤️this is amazing', 'Ravishing 💋 💋 seductive 🔥 🔥 n sizzling hot 🔥 n sexy 💋', '🔥🔥🔥🔥', 'Beautiful😍', 'Superbbb.. Awesome.. Mind blowing.. Very graceful..👌😊😍😍❤️❤️🔥🔥🔥😘😘😘', 'Amazing💎⭐🌟🌟', 'Sexy nice figure muskan 😍', 'Gorgeous piece of work', 'The sexy baby ❤️', 'WoW.Stunning Look👌🔥❤️', 'Hot ❤️', 'Stunner🙌', 'Beautiful', 'Awesome😍😍😍', 'Ek nooooo style', 'Sizzling 🔥🔥', 'Love your sexy legs and feet', 'Gorgeous 😎', 'Sexo❤️\\U0001f929🤗🤗🤗', 'Pls inbox ur number for a paid photoshoot', '😍🔥💯', 'Cool'], '2387182744957739678': ['👍', 'Just wow🔥🔥🔥🔥', '🔥🔥😍', 'Important message for you please come to my inbox', 'Amazing', '🔥🔥🔥🔥🔥🔥', 'The incredible sexy beauty', 'Killer❤️😍❤️😍', '🔥🔥😘', 'Beautiful', '❤️🔥🔥🔥🔥🔥❤️', 'Stunning', 'Fantastic', 'Wooowww Muskan.. mind blowing👌😊😍❤️🔥', 'Awesome', 'Hot❤️', 'Beautiful 😘😘❤️❤️😍😍😍', 'My pleasure and welcome', '🖕'], '2378456268691214098': ['😍', '💋💋💋💋', 'Beautiful', 'Wooowww.. Awesomeeee👌😊😍🔥', 'Beautiful🔥🔥🔥', 'Yes u are Beautiful', 'Wow 😳🔥🔥🔥🔥', '😍🔥🍑🙌❤️'], '2373147564962053421': ['Hot look', '🔥🔥🔥🔥🔥', 'Wow 🔥🔥🔥🔥🔥♥️♥️♥️', '👏', '🔥🔥🔥🔥🔥🔥🔥🔥🔥🔥🔥🔥🔥', '@muskansaiyyad Omg what a figure 😍😘🔥 looking so hot 🔥🔥🔥 nice one', '🔥🔥🔥', '😘😘', '😎😎', 'Killer 👌👌🤗❤️🤗😍', 'The incredible beauty queen', 'beautiful', '🔥🔥🔥🔥🔥', 'hottest beautiful princess in the world \\U0001f970😍\\U0001f970', '🔥🔥🔥@muskansaiyyad', '🔥🔥🔥🔥', 'Awesome', '🔥🔥🔥🔥', 'Wow ❤️❤️❤️❤️❤️', 'Baby doll❤️😍😘💐', 'No words...Just staring at ur sexy midriff🔥🔥😘', 'Hot😮', 'Nice 👙', 'Hot', '❤️', 'Inbox me asap .for great assignment ..waiting', '🔥🔥😍😍😍😍', '🔥🔥🔥🔥🔥🔥', 'Gorgeous🔥', 'Class beauty🔥🔥🔥🔥❤️❤️❤️', 'Sunlight can be better used from different angle in frame 👍', 'Bomb 🔥', 'Looking too hot musu🔥🔥🔥', 'Beautiful ❤️❤️', 'Mast👌🔥❤️', 'How r u.......Stay Safe....', 'Wow😍', 'Super Hotttt🔥'], '2367709483941445293': ['😘😘😘', '🔥🔥🔥', 'Congratulations', '❤️👌🏼', 'Congratulations', 'Wow🔥🔥🔥', '💐', 'Lovely ❤️😍😍💐💐😘😘', 'Congrats....', 'Hiee can u come to inbox i havve some important information for you']}, 'anisha2323': {'2433707039984543959': ['Pretty ❤️', 'You look like @princesspiamia', 'Hi, @anisha2323 we have an offer for you if would like to know more kindly DM us.', 'Hey gorgeous! ❤️You have a lovely account! DM us, we’d love to work with you 😍'], '2432975628059191500': ['MY❤️❤️LIFE😍😍SWEAR🌹🌹YOU👰👰ARE 👌👌 LOOKING👰 SO👰SO🌹SO❤️SO❤️MUCH \\U0001f970\\U0001f970 BEAUTIFUL 🌸🌺GIRL👌👌'], '2432045333268961941': [], '2431485458059279906': ['Hotiee', '😍😍wow👑👑awesome 😘😘 gorgeous ❤️❤️ amazing 🌹🌹🌹 beauty of world 👰👰 queen of hearts 💓 and Queen of beauties👰👰most beautiful girl in this world 🙏🙏🌹🌹❤️💋', 'здравствуйте,заглянитепожалуйста в директ', '🖤', '@anisha2323 beautiful!❤️'], '2428527313561273181': ['Hello babe \\U0001f970 your profile fits perfectly what we are looking for dm us for details ✨', 'Gorgeous you', 'You are queen of beauties, queen of❤️❤️❤️', 'Nice🔥🔥🔥🔥', 'Dm @crescentreasures to collab', 'Hi, @anisha2323 we have an offer for you if would like to know more kindly DM us😊.'], '2428310551729161963': ['Now looking very cute and thanks for accepting my choice', 'U really look cute and sweet in red'], '2427848096720826582': ['Beautiful 😍', '😍😍😍😍😍', 'Beautiful features ♥️🌹', 'Beauty queen', 'Really looking so hot', 'Please mam reply in inbox', 'Hotiee', 'Red suit on u more', 'So nyc kya khub lag rahe ho', '💜💜💜💜💜💜💜💜💜💜', '❤️❤️wow❤️❤️ beautiful❤️❤️ awesome👌👌 gorgeous😍😍 amazing❤️❤️ queen of beauties👰👰most beautiful women🌹🌹', 'Bhutifol for you dream girl', 'Collab?DM @mellowcosmetics💕'], '2427091968189605151': ['Team up? Pm us at @crescentreasures', '😍😍', 'Dm us for a collab♥️💥🔥', 'Sexyyy', 'Hey Love😍🔥 you’re so Stylish we like your style \\U0001f970 DM us We’d Love to work together ❤️', '\"OMG\" IT\\'S AMAZING, AWESOME OR GORGEOUS BEAUTY QUEEN LOOKING SO SO SO SO SO SO SO SO SO MUCH BEAUTIFUL.', 'जिंदगी कसम आप सच मुच में इतने ज्यादा खूबसूरत हो कि मन करता है कि जिंदगी भर आपका ही गुलाम बनकर रहो. आप अद्भुत सुंदरी हो', 'Nice'], '2426300761284881008': ['See I told u look cute in red', 'Oh.. That bruised knee..\\U0001f97a', '😍😍', 'Dayummm', 'Knee me kaise lgi pdi hai😂😂', 'Out standing look'], '2425600710824867273': ['Collab? DM @mellowcosmetics 💕']}, 'kouchpotateaux': {'2414029973358049030': ['Looking like a Pooja wala har🔥', 'My teeth after haldi doodh', 'classy radhe maa', 'My favourite 💫', 'Ur posts make my excited about life', 'BASANT PUNCH ME VIBEZZZZ', 'Look at all this beauty in my life 😭😭', 'Unreal😍', 'Woww ♥️♥️', 'Marry me🌙', 'Yaaaaas queen!', \"Your mum made you, I'm grateful for that the most💕🌼\", 'please marry me', 'Yaar I’m toh running out of comments now 😂😍😍', '😍😍😍 my babbeee💘', 'Wait those are fabric? Your mom did such a good job. Also you are glowing🔥', 'I always tell everyone gajras are a lifestyle 😌', 'Also you look very *chefs kiss 💋 ❤️🌼', '💯\\U0001f929', 'The colours 😍😍😍😍', \"Wow that's the explosion of colour i needed😍\", 'Beautiful 😍', '🌼🌼🌼 love', '😍😍', 'Beautiful', '💛💛💛💛💛💛💛', 'Wow🌈', '😻😻😻😻', '🌼🌼🌼', '😍😍😍', 'Beautiful \\U0001f90d', \"You're the only thing that excites me on Instagram\", '🏵️', 'Its just Look!! after!! Look!! 🔥🔥🔥', 'Beauttt 🔥', '😍😍'], '2406775417406362287': ['Sanskari smurf or boujee Na’vi', 'Is this the new PubG outfit?', '😭😭😭😭😭', 'Yashnaaaa😍😍😍😍', '🤤🤤🤤', 'OH MY GOD', 'BRUHHHHHHH', '😍😍😍😍😍😍', 'Loveee E V E R V Y T H I N G about this😭🔥💕', 'Slaying once again wow❤️', 'And those Jewels! #BindiBabe ✨💫💭', \"BABEEE ILYYYY💘💙💘 YOU'RE PURE MAGICCCC✨\", 'Euphoria but desi.😍❤️', '😭😭😭😭😭❤️❤️❤️ best best best', '@kouchpotateaux Love your work, Yashna'], '2397999556607864429': ['Looking spring roll', 'I can’t handle this level of glamour!!!!!', 'ummm kill me', 'ARRGHHHH', 'Holy shit 🔥🔥', 'yaar', 'Ugh, much art😭💕', 'QUEENS', 'Too beautiful', '❤️❤️❤️✨✨✨', 'fab \\U0001f975\\U0001f975🔥', '😍😍😍', 'So good! 😍', 'Full power 🔥', 'So good ♥️🔥', 'I love your work! It’s ecstatic. 😍', '♥️♥️♥️♥️I LOVE THISSS', 'Omg Wow😻😻', 'Oooooof🔥', 'So beautiful 😭💘', 'Dying😍', 'This is fantastic! So inspiring', 'editorial queen', '🍓🍓\\U0001f975\\U0001f975', ':,) ♥️🌸✨', 'I just love you 💘💘💘 loveeeeeeee thisssss 💖💖', 'Kya raaz hai aapka', \"Ma'am, what even ❣️❣️❣️❣️\", 'Superb!', 'These two ladies just slaying. @kouchpotateaux  @bitturaniii', 'These are so good!!😍', '😮😮😮😍', '💯💯', 'WOW LOVE THIS😍🔥', '@alefiya__harianawala gbu for this fan lyyy', '@alefiya__harianawala gbu for this fan lyyy', '@alefiya__harianawala gbu for this fan lyyy', '@alefiya__harianawala gbu for this fan lyyy', '@alefiya__harianawala gbu for this fan lyyy', '@alefiya__harianawala gbu for this fan lyyy', '@alefiya__harianawala gbu for this fan lyyy', '@alefiya__harianawala gbu for this fan lyyy', '@alefiya__harianawala gbu for this fan lyyy', '@alefiya__harianawala gbu for this fan lyyy', '@alefiya__harianawala gbu for this fan lyyy', '@alefiya__harianawala gbu for this fan lyyy', '@alefiya__harianawala gbu for this fan lyyy', '@alefiya__harianawala gbu for this fan lyyy', '@alefiya__harianawala gbu for this fan lyyy', '@alefiya__harianawala gbu for this fan lyyy'], '2392756082795072333': ['Youre something else😍😍', 'Very cool', '😍😍😍', 'Woww this is stunning 😍🔥', 'Ye kya pagalpan ho rha h? 😍😍😍😍', 'No please dont make it the last smokey eye pic.. Keep them coming 😍. I love it man!', \"MC'XUSE ME\", 'Did you draw on that tattoo just for this look? 😮', 'OMGGGGGG WHATTTT😍😍😍😍', 'Omg how gorgeous is that tattoo😍', \"I'm always short on words so just imagine I said something really good! 💕\", 'My absolute favourite look so far❤️', 'So beautiful 😍check out my account as well💓', 'Literally perfect.❤️ I love those razor sharp eyebrows too. Brb going to ask God why she made me ugly.', 'Wow❤️', '✨💫💭', 'OMG WOW! 💕 This is powerful', 'Wow love this😍😍😍', 'Ok but who’s drawing all that on u 😏'], '2391296218419854405': ['I love how your eyes are serving me boss even w alll the jewelery', 'Precious jewellery✨', 'Hi mam plis say \"thuk daan de\"', 'So so so freggin hot \\U0001f975 🔥', 'WOW😻😻🔥🔥', 'Your art is unmatched. I love the detail you put into creating new stuff. Every time you try to one up your last one. So cool. Hate ur guts for being so perfect ugh. Ek kaam kar na Kill us all', 'Excuseeeeeeee me. Who what how. So fucking beautiful❤️😍', 'It’s really inspiring!🔥', 'absolutely gorgeous', 'My my ❤️ you so pretty', 'unreal 😭', 'You have an Uncanny way of looking gorgeous always 🙃', 'Stunning😍 that head piece is just gorgeous! You have such a good eye for unique pieces.', 'Sooo beautiful!!!!😍😭', 'lovinnnn', 'Yashna Raniiiii', 'yaar', '🤤', 'In absolute awe', 'OHMYGAAAA', 'Stunning!', 'Beautiful', 'This is so so hot 🔥😍', 'Dudeeee I love this loook \\U0001f929\\U0001f929\\U0001f929😍😍😍 and where did you get that metallic jewel that you’re wearing on your forehead.. it looks amazing!', 'yo slap me', '\\U0001f92f\\U0001f92f\\U0001f92f\\U0001f92f❤️❤️❤️', 'Stunning 🔥🔥🔥', 'Love this!! So beautiful 💕', 'Omg so stunning😍😍😍', 'bigg @shaistadeen vibes!! amazed as always', 'Literally speechless 😍😍😍😍', 'This one is really good', '😍😍😍😍'], '2389841932208854985': ['Alexa play \" Maardala \" 💚💚💚', 'Didi aap toh chha gaye 🙌🙌🙌🙌', 'consult good astrologer for correct fake mole position', 'SNATCHED', 'Honestly who gave you the RIGHT \\U0001f975🔥', 'HOW DO YOU DO THIS 🔥', 'Stunning!! 😍', 'you kill it EVERY time 🔥🔥🔥', 'Woowwwww!!! Gurrrl I’m straight for y 🙈❤❤❤', 'Killing it bro💯', 'Dear love of godd woman! you’re killing me 🔥🔥🔥', '😻😻😻😻😻😻YESSS', '🔥🔥🔥', 'Deceased. Death. Killed. ⚰️ RIP Me', \"I can't, wow\", 'Omggg😍😍', 'That issss\\U0001f92f🔥♥️💯', \"YOU'RE SO FKN UNREAL SIS SNATCHED DEAD DECEASED DEAD😩😩😩😩😍😍😍😍😍\", '😍😍😍', 'SCREAAAAMINGGG ♥️♥️♥️♥️♥️♥️♥️ BEAUTTTTT ♥️♥️♥️♥️♥️♥️', 'Damnnn💖😭', 'Fuckkk!! Sooo gorgeous \\U0001f929\\U0001f929', 'Faaackh me!🔥', 'Helu mem cen I gate en auchograf?', '😍😍😍😍😍😍', 'my jaw? DROPPED \\U0001f975', 'All hail 🙌🔥 beyond DED', 'DED 🔥 who are you even?! 😍 cc: @thygirlboss', 'Damn😍', '🔥🔥🔥', 'WHAT IS HAPPENING HERE??????', 'HOLY QUEEN DAMNNNN 🔥❤️🔥', '✨ Holy smokes *_*', '✨ Holy smokes *_*', 'Wow omg 😳😍', 'You look like you could be besties with Madhubala.', 'Whaaaaaattt 😍😍😍😍😍😍 so gorgeous', 'OOOFF\\U0001f975\\U0001f975\\U0001f975🔥🔥🔥♥️♥️♥️', 'Kill me 😍🔥🤤', 'Beaut😩❤️', '🤤🤤🤤🤤🤤', 'Omg😍😍😍😍', 'WOW JAW DROPPED 😍😍😍', 'BINDI B A B E 🌹', '😻😻😻😻', 'So insanely beautiful 😭♥️', 'WOW so gorgeous 😍😍😍', 'OMFG screaming', 'A queen 👑', '😍😍😍😍😍😍😍', 'LADY \\U0001f975', 'Nice one didi 🔥', 'Omg❤️ beautyyy', '🔥🔥', 'Oh my god this is so hot\\U0001f929\\U0001f929❤️❤️', \"you're my new religion\", '🔥🔥🔥🔥🔥', '🔥🔥🔥🔥🔥🔥', 'Gagged😮'], '2383446609765064060': ['😍😍 this is gorgeous', 'Ughhh😍😍😍', 'omg i thought it was just me 😫', '😍😍😍♥️', 'Girl same', 'follow and tag us to be featured!! ❤️', 'Such a pretty shot😍😍'], '2382599077744835149': ['Goddess', 'blessing', 'Wow! ✨', 'Omg gorgeous😍', 'Ohhhhh my myyyyyy❤️🔥🔥🔥🔥🔥🔥 crazy', 'This is 🔥🔥', 'Aaahh!! Thank you', 'Aaahh!! Thank you', '❤️❤️❤️', 'Uff!🔥', '😍😍😍😍😍😍', '💯💯💯', 'mashaallah', 'Serving looks to us plebs', 'Goddess 😍', 'QWEEEEEEEEN 🔥', 'this is just insane ⚡', '🔥🔥', \"you're my new god, I worship you\", 'So beautiful😍😍😍😍', '😍😍', '😍😍😍😍 Holy shit', 'Uff❤️', '😍❤️❤️ Woah', 'Sent Rishta to Aunty. Doli saja ke rakhna🌷', '\\U0001f929\\U0001f929', 'UNREAL', 'You gorgeous person ✨', 'queenn', \"If you gave me measles I'd say thank you.\", 'influencerrrrrr', 'Omg crazy stunning 😍🔥👏', 'outdid yourself!!!! SOO BEAUTIFUL 💖💖\\U0001f99a', 'ily😳', 'So BEAUTIFUL!!😍😍❤️❤️', 'Such a beautiful look😍❤️', 'Hai rabbaaaa😍😍😍😍', \"idk if I'm jealous or in love 😤\", 'follow and tag us to be featured!! ❤️', 'Most perfect hairline I’ve ever seen. #makeitatrend', 'This is so good!!', 'This is amazing ❤️ Also we must shoot !!', 'Gorgeous😍😍😍😍', 'LOVE!', '🖤❤🖤❤', 'The creativity is beaming😍😍😍', 'The longer I stare, the more I fall in love?'], '2368314925910502511': ['😍', '😍💯', 'YASS😍', 'You have beautiful hands 💅🏻✨✨', 'Ye haath mujhe de de colapuri 😍', \"You're beautiful.\", '😍😍😍'], '2366884814015381564': ['Wowwww😍', 'NOT AT ALL', 'Please inject this photo into my veins', 'Nope 😍😍😍😍😍', '😍😍😍😍', \"Aaaaa you're such a beautt❤️\", 'Drawer', 'I can tell you are absolute beauty. <3', 'Banarasi paan', 'Goddessss ❤❤', 'Ufffff. Paint me🙌', '💯💯', 'So beautiful', 'Beautiful', '🔥🔥🔥', 'so beautiful', '❤🤑💜', 'Woahh love this look😍😍', 'The Bindi! 😍']}}\n"
          ],
          "name": "stdout"
        },
        {
          "output_type": "execute_result",
          "data": {
            "application/vnd.google.colaboratory.intrinsic+json": {
              "type": "string"
            },
            "text/plain": [
              "\"\\nuser_comments = {}\\nfor key,val in media_ids.items():\\n  for media_id in val:\\n    id_comment = {}\\n    comments_text = []\\n    comments = instagram.get_media_comments_by_id(media_id, 100)\\n    for comment in comments['comments']:\\n        comments_text.append(comment.text)\\n    id_comment[media_id] = comments_text\\n  user_comments[key] = id_comment\\n  print(user_comments)\""
            ]
          },
          "metadata": {
            "tags": []
          },
          "execution_count": 43
        }
      ]
    },
    {
      "cell_type": "code",
      "metadata": {
        "id": "bePtkC7PVxJd",
        "outputId": "4992018e-57c7-4e22-81ef-0e48b4a62606",
        "colab": {
          "base_uri": "https://localhost:8080/"
        }
      },
      "source": [
        "print(user_comments.keys())"
      ],
      "execution_count": null,
      "outputs": [
        {
          "output_type": "stream",
          "text": [
            "dict_keys(['muskansaiyyad', 'anisha2323', 'kouchpotateaux'])\n"
          ],
          "name": "stdout"
        }
      ]
    },
    {
      "cell_type": "code",
      "metadata": {
        "id": "mmvDjDsaZz42"
      },
      "source": [
        ""
      ],
      "execution_count": null,
      "outputs": []
    }
  ]
}